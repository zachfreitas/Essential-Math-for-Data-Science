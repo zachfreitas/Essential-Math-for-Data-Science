{
 "cells": [
  {
   "cell_type": "markdown",
   "metadata": {},
   "source": [
    "# Logistic Regression"
   ]
  },
  {
   "cell_type": "code",
   "execution_count": null,
   "metadata": {},
   "outputs": [],
   "source": [
    "# Example 6-1. The logistic function in Python for one independent variable \n",
    "import math\n",
    "\n",
    "def predict_probability(x, b0, b1):\n",
    "    p = 1.0 / (1.0 + math.exp(-(b0 + b1 * x)))\n",
    "    return p\n"
   ]
  },
  {
   "cell_type": "code",
   "execution_count": 1,
   "metadata": {},
   "outputs": [
    {
     "name": "stdout",
     "output_type": "stream",
     "text": [
      "1.0/(1.0 + 16.8272567955368*exp(-0.62*x))\n"
     ]
    },
    {
     "data": {
      "image/png": "[encoded data removed]",
      "text/plain": [
       "<Figure size 640x480 with 1 Axes>"
      ]
     },
     "metadata": {},
     "output_type": "display_data"
    },
    {
     "data": {
      "text/plain": [
       "<sympy.plotting.plot.Plot at 0x1d32aaa0410>"
      ]
     },
     "execution_count": 1,
     "metadata": {},
     "output_type": "execute_result"
    }
   ],
   "source": [
    "# Example 6-2. Using SymPy to plot a logistic function \n",
    "from sympy import *\n",
    "b0, b1, x = symbols('b0 b1 x')\n",
    "\n",
    "p = 1.0 / (1.0 + exp(-(b0 + b1 * x)))\n",
    "\n",
    "p = p.subs(b0,-2.823)\n",
    "p = p.subs(b1, 0.620)\n",
    "print(p)\n",
    "\n",
    "plot(p)"
   ]
  },
  {
   "cell_type": "markdown",
   "metadata": {},
   "source": [
    "## Using Scipy"
   ]
  },
  {
   "cell_type": "code",
   "execution_count": 7,
   "metadata": {},
   "outputs": [
    {
     "name": "stdout",
     "output_type": "stream",
     "text": [
      "Beta 1: [0.69267212]\n",
      "Beta 0: [-3.17576395]\n"
     ]
    }
   ],
   "source": [
    "# Example 6-3. Using a plain logistic regression in SciPy \n",
    "import pandas as pd\n",
    "from sklearn.linear_model import LogisticRegression\n",
    "\n",
    "# Load the data\n",
    "df = pd.read_csv('https://bit.ly/33ebs2R', delimiter=\",\")\n",
    "\n",
    "# Extract input variables (all rows, all columns but last column)\n",
    "X = df.values[:, :-1]\n",
    "\n",
    "# Extract output column (all rows, last column)\n",
    "Y = df.values[:, -1]\n",
    "\n",
    "# Perform logistic regression\n",
    "# Turn off penalty\n",
    "model = LogisticRegression(penalty=None)\n",
    "model.fit(X, Y)\n",
    "\n",
    "# print beta1\n",
    "print(\"Beta 1:\", model.coef_.flatten()) # 0.69267212\n",
    "\n",
    "# print beta0\n",
    "print(\"Beta 0:\", model.intercept_.flatten()) # -3.17576395\n",
    "\n"
   ]
  },
  {
   "cell_type": "markdown",
   "metadata": {},
   "source": [
    "## Maximum Likelihood"
   ]
  },
  {
   "cell_type": "code",
   "execution_count": 8,
   "metadata": {},
   "outputs": [
    {
     "name": "stdout",
     "output_type": "stream",
     "text": [
      "4.7911180221699105e-05\n"
     ]
    }
   ],
   "source": [
    "# Example 6-4. Calculating the joint likelihood of observing all the points for a given logistic regression \n",
    "import math\n",
    "import pandas as pd\n",
    "\n",
    "patient_data = pd.read_csv('https://bit.ly/33ebs2R', delimiter=\",\").itertuples()\n",
    "\n",
    "b0 = -3.17576395\n",
    "b1 = 0.69267212\n",
    "\n",
    "def logistic_function(x):\n",
    "    p = 1.0 / (1.0 + math.exp(-(b0 + b1 * x)))\n",
    "    return p\n",
    "\n",
    "# Calculate the joint likelihood\n",
    "joint_likelihood = 1.0\n",
    "\n",
    "for p in patient_data:\n",
    "    if p.y == 1.0:\n",
    "        joint_likelihood *= logistic_function(p.x)\n",
    "    elif p.y == 0.0:\n",
    "        joint_likelihood *= (1.0 - logistic_function(p.x))\n",
    "\n",
    "print(joint_likelihood) # 4.7911180221699105e-05\n"
   ]
  },
  {
   "cell_type": "code",
   "execution_count": 11,
   "metadata": {},
   "outputs": [
    {
     "name": "stdout",
     "output_type": "stream",
     "text": [
      "4.7911180221699105e-05\n"
     ]
    }
   ],
   "source": [
    "# Example 6-5. Compressing the joint likelihood calculation without an if expression for p in patient_data:\n",
    "import math\n",
    "import pandas as pd\n",
    "\n",
    "patient_data = pd.read_csv('https://bit.ly/33ebs2R', delimiter=\",\").itertuples()\n",
    "\n",
    "b0 = -3.17576395\n",
    "b1 = 0.69267212\n",
    "\n",
    "def logistic_function(x):\n",
    "    p = 1.0 / (1.0 + math.exp(-(b0 + b1 * x)))\n",
    "    return p\n",
    "\n",
    "# Calculate the joint likelihood\n",
    "joint_likelihood = 1.0\n",
    "\n",
    "for p in patient_data:\n",
    "    joint_likelihood *= logistic_function(p.x) ** p.y * \\\n",
    "                        (1.0 - logistic_function(p.x)) ** (1.0 - p.y)\n",
    "\n",
    "print(joint_likelihood) # 4.7911180221699105e-05"
   ]
  },
  {
   "cell_type": "code",
   "execution_count": 12,
   "metadata": {},
   "outputs": [
    {
     "name": "stdout",
     "output_type": "stream",
     "text": [
      "0.00013023609057667072\n"
     ]
    }
   ],
   "source": [
    "# Example 6-5. Compressing the joint likelihood calculation without an if expression for p in patient_data:\n",
    "import math\n",
    "import pandas as pd\n",
    "\n",
    "patient_data = pd.read_csv('https://bit.ly/33ebs2R', delimiter=\",\").itertuples()\n",
    "\n",
    "b0 = -3.17576395\n",
    "b1 = 0.69267212\n",
    "\n",
    "def logistic_function(x):\n",
    "    p = 1.0 / (1.0 + math.exp(-(b0 + b1 * x)))\n",
    "    return p\n",
    "\n",
    "# Calculate the joint likelihood\n",
    "joint_likelihood = 1.0\n",
    "\n",
    "for p in patient_data:\n",
    "    joint_likelihood += math.log(logistic_function(p.x) ** p.y * \\\n",
    "                                 (1.0 - logistic_function(p.x)) ** (1.0 - p.y))\n",
    "\n",
    "joint_likelihood = math.exp(joint_likelihood)\n",
    "\n",
    "print(joint_likelihood) # 4.7911180221699105e-05"
   ]
  },
  {
   "cell_type": "code",
   "execution_count": 15,
   "metadata": {},
   "outputs": [
    {
     "name": "stdout",
     "output_type": "stream",
     "text": [
      "0.14227747988864586 -0.01175412847565707\n"
     ]
    }
   ],
   "source": [
    "# Example 6-8. Using gradient descent on logistic regression \n",
    "from sympy import *\n",
    "import pandas as pd\n",
    "\n",
    "points = list(pd.read_csv(\"https://tinyurl.com/y2cocoo7\").itertuples())\n",
    "\n",
    "b1, b0, i, n = symbols('b1 b0 i n')\n",
    "x, y = symbols('x y', cls=Function)\n",
    "joint_likelihood = Sum(log((1.0 / (1.0 + exp(-(b0 + b1 * x(i))))) ** y(i) \\\n",
    "   * (1.0 - (1.0 / (1.0 + exp(-(b0 + b1 * x(i)))))) ** (1 - y(i))), (i, 0, n))\n",
    "\n",
    "# Partial derivative for m, with points substituted\n",
    "d_b1 = diff(joint_likelihood, b1) \\\n",
    "         .subs(n, len(points) - 1).doit() \\\n",
    "         .replace(x, lambda i: points[i].x) \\\n",
    "         .replace(y, lambda i: points[i].y)\n",
    "\n",
    "# Partial derivative for m, with points substituted\n",
    "d_b0 = diff(joint_likelihood, b0) \\\n",
    "         .subs(n, len(points) - 1).doit() \\\n",
    "         .replace(x, lambda i: points[i].x) \\\n",
    "         .replace(y, lambda i: points[i].y)\n",
    "\n",
    "# compile using lambdify for faster computation\n",
    "d_b1 = lambdify([b1, b0], d_b1)\n",
    "d_b0 = lambdify([b1, b0], d_b0)\n",
    "\n",
    "# Perform Gradient Descent\n",
    "b1 = 0.01\n",
    "b0 = 0.01\n",
    "L = .01\n",
    "\n",
    "for j in range(100_000):\n",
    "    b1 += d_b1(b1, b0) * L\n",
    "\n",
    "b0 += d_b0(b1, b0) * L\n",
    "\n",
    "print(b1, b0)\n",
    "# 0.6926693075370812 -3.175751550409821\n"
   ]
  },
  {
   "cell_type": "code",
   "execution_count": 48,
   "metadata": {},
   "outputs": [
    {
     "name": "stdout",
     "output_type": "stream",
     "text": [
      "COEFFICIENTS: [ 0.03213405  0.03682453 -2.50410028  0.9742266 ]\n",
      "INTERCEPT: [-2.73485302]\n",
      "WILL LEAVE: [[0.28570264 0.71429736]]\n",
      "WILL STAY: [[0.94932047 0.05067953]]\n"
     ]
    }
   ],
   "source": [
    "# Example 6-9. Doing a multivariable logistic regression on employee data \n",
    "import pandas as pd\n",
    "from sklearn.linear_model import LogisticRegression\n",
    "\n",
    "employee_data = pd.read_csv(\"https://tinyurl.com/y6r7qjrp\")\n",
    "\n",
    "# grab independent variable columns\n",
    "inputs = employee_data.iloc[:, :-1]\n",
    "\n",
    "# grab dependent \"did_quit\" variable column\n",
    "output = employee_data.iloc[:, -1]\n",
    "\n",
    "# build logistic regression\n",
    "fit = LogisticRegression(penalty=None).fit(inputs.values, output.values)\n",
    "\n",
    "# Print coefficients:\n",
    "print(\"COEFFICIENTS: {0}\".format(fit.coef_.flatten()))\n",
    "print(\"INTERCEPT: {0}\".format(fit.intercept_.flatten()))\n",
    "\n",
    "# Interact and test with new employee data\n",
    "def predict_employee_will_stay(sex, age, promotions, years_employed):\n",
    "    prediction = fit.predict([[sex, age, promotions, years_employed]])\n",
    "    probabilities = fit.predict_proba([[sex, age, promotions, years_employed]])\n",
    "    if prediction == [[1]]:\n",
    "        return \"WILL LEAVE: {0}\".format(probabilities)\n",
    "    else:\n",
    "        return \"WILL STAY: {0}\".format(probabilities)\n",
    "\n",
    "# Test a prediction\n",
    "while True:\n",
    "    n = input(\"Predict employee will stay or leave {sex}, {age}, {promotions}, {years employed}: \") \n",
    "    if n == \"\":   \n",
    "        break        \n",
    "    else:      \n",
    "        (sex, age, promotions, years_employed) = n.split(\",\")  \n",
    "        print(predict_employee_will_stay(int(sex), int(age), int(promotions), int(years_employed)))\n"
   ]
  },
  {
   "cell_type": "code",
   "execution_count": 49,
   "metadata": {},
   "outputs": [
    {
     "name": "stdout",
     "output_type": "stream",
     "text": [
      "-9.946161673231583\n"
     ]
    }
   ],
   "source": [
    "# Example 6-10. Calculating the log likelihood of the fit \n",
    "from math import log, exp\n",
    "import pandas as pd\n",
    "\n",
    "patient_data = pd.read_csv('https://bit.ly/33ebs2R', delimiter=\",\").itertuples()\n",
    "\n",
    "b0 = -3.17576395\n",
    "b1 = 0.69267212\n",
    "\n",
    "def logistic_function(x):\n",
    "    p = 1.0 / (1.0 + exp(-(b0 + b1 * x)))\n",
    "    return p\n",
    "\n",
    "# Sum the log-likelihoods\n",
    "log_likelihood_fit = 0.0\n",
    "\n",
    "for p in patient_data:\n",
    "    if p.y == 1.0:\n",
    "        log_likelihood_fit += log(logistic_function(p.x))\n",
    "    elif p.y == 0.0:\n",
    "        log_likelihood_fit += log(1.0 - logistic_function(p.x))\n",
    "\n",
    "print(log_likelihood_fit) # -9.946161673231583 Using some clever binary multiplication and\n"
   ]
  },
  {
   "cell_type": "code",
   "execution_count": 50,
   "metadata": {},
   "outputs": [
    {
     "name": "stdout",
     "output_type": "stream",
     "text": [
      "0.306456105756576\n"
     ]
    }
   ],
   "source": [
    "# Example 6-14. Calculating the  for a logistic regression \n",
    "import pandas as pd\n",
    "from math import log, exp\n",
    "\n",
    "patient_data = list(pd.read_csv('https://bit.ly/33ebs2R', delimiter=\",\") \\\n",
    "                                .itertuples())\n",
    "\n",
    "# Declare fitted logistic regression\n",
    "b0 = -3.17576395\n",
    "b1 = 0.69267212\n",
    "\n",
    "def logistic_function(x):\n",
    "    p = 1.0 / (1.0 + exp(-(b0 + b1 * x)))\n",
    "    return p\n",
    "\n",
    "# calculate the log likelihood of the fit\n",
    "log_likelihood_fit = sum(log(logistic_function(p.x)) * p.y +\n",
    "                         log(1.0 - logistic_function(p.x)) * (1.0 - p.y)\n",
    "                         for p in patient_data)\n",
    "\n",
    "# calculate the log likelihood without fit\n",
    "likelihood = sum(p.y for p in patient_data) / len(patient_data)\n",
    "\n",
    "log_likelihood = sum(log(likelihood) * p.y + log(1.0 - likelihood) * (1.0 - p.y) \\\n",
    "   for p in patient_data)\n",
    "\n",
    "# calculate R-Square\n",
    "r2 = (log_likelihood - log_likelihood_fit) / log_likelihood\n",
    "\n",
    "print(r2)  # 0.306456105756576\n"
   ]
  },
  {
   "cell_type": "code",
   "execution_count": 52,
   "metadata": {},
   "outputs": [
    {
     "name": "stdout",
     "output_type": "stream",
     "text": [
      "0.0016604875618753787\n"
     ]
    }
   ],
   "source": [
    "# Example 6-15. Calculating a p-value for a given logistic regression \n",
    "import pandas as pd\n",
    "from math import log, exp\n",
    "from scipy.stats import chi2\n",
    "\n",
    "patient_data = list(pd.read_csv('https://bit.ly/33ebs2R', delimiter=\",\").itertuples())\n",
    "\n",
    "# Declare fitted logistic regression\n",
    "b0 = -3.17576395\n",
    "b1 = 0.69267212\n",
    "\n",
    "def logistic_function(x):\n",
    "    p = 1.0 / (1.0 + exp(-(b0 + b1 * x)))\n",
    "    return p\n",
    "\n",
    "# calculate the log likelihood of the fit\n",
    "log_likelihood_fit = sum(log(logistic_function(p.x)) * p.y +\n",
    "                         log(1.0 - logistic_function(p.x)) * (1.0 - p.y)\n",
    "                         for p in patient_data)\n",
    "\n",
    "# calculate the log likelihood without fit\n",
    "likelihood = sum(p.y for p in patient_data) / len(patient_data)\n",
    "\n",
    "log_likelihood = sum(log(likelihood) * p.y + log(1.0 - likelihood) * (1.0 - p.y) \\\n",
    "                     for p in patient_data)\n",
    "\n",
    "# calculate p-value\n",
    "chi2_input = 2 * (log_likelihood_fit - log_likelihood)\n",
    "p_value = chi2.pdf(chi2_input, 1) # 1 degree of freedom (n - 1)\n",
    "\n",
    "print(p_value)  # 0.0016604875618753787\n"
   ]
  },
  {
   "cell_type": "code",
   "execution_count": 54,
   "metadata": {},
   "outputs": [
    {
     "name": "stdout",
     "output_type": "stream",
     "text": [
      "Accuracy Mean: 0.611 (stdev=0.000)\n"
     ]
    }
   ],
   "source": [
    "import pandas as pd\n",
    "from sklearn.linear_model import LogisticRegression\n",
    "from sklearn.model_selection import KFold, cross_val_score\n",
    "\n",
    "# Load the data\n",
    "df = pd.read_csv(\"https://tinyurl.com/y6r7qjrp\", delimiter=\",\")\n",
    "\n",
    "X = df.values[:, :-1]\n",
    "Y = df.values[:, -1]\n",
    "\n",
    "# \"random_state\" is the random seed, which we fix to 7\n",
    "kfold = KFold(n_splits=3, random_state=7, shuffle=True)\n",
    "model = LogisticRegression(penalty=None)\n",
    "results = cross_val_score(model, X, Y, cv=kfold)\n",
    "\n",
    "print(\"Accuracy Mean: %.3f (stdev=%.3f)\" % (results.mean(), results.std()))\n"
   ]
  },
  {
   "cell_type": "code",
   "execution_count": null,
   "metadata": {},
   "outputs": [],
   "source": []
  },
  {
   "cell_type": "code",
   "execution_count": null,
   "metadata": {},
   "outputs": [],
   "source": []
  },
  {
   "cell_type": "code",
   "execution_count": null,
   "metadata": {},
   "outputs": [],
   "source": []
  },
  {
   "cell_type": "code",
   "execution_count": null,
   "metadata": {},
   "outputs": [],
   "source": []
  },
  {
   "cell_type": "code",
   "execution_count": 1,
   "metadata": {},
   "outputs": [
    {
     "name": "stdout",
     "output_type": "stream",
     "text": [
      "[[6 3]\n",
      " [4 5]]\n"
     ]
    }
   ],
   "source": [
    "# Example 6-17. Creating a confusion matrix for a testing dataset in SciPy \n",
    "import pandas as pd\n",
    "from sklearn.linear_model import LogisticRegression\n",
    "from sklearn.metrics import confusion_matrix\n",
    "from sklearn.model_selection import train_test_split\n",
    "\n",
    "# Load the data\n",
    "df = pd.read_csv('https://bit.ly/3cManTi', delimiter=\",\")\n",
    "\n",
    "# Extract input variables (all rows, all columns but last column)\n",
    "X = df.values[:, :-1]\n",
    "\n",
    "# Extract output column (all rows, last column)\\\n",
    "Y = df.values[:, -1]\n",
    "\n",
    "model = LogisticRegression(solver='liblinear')\n",
    "\n",
    "X_train, X_test, Y_train, Y_test = train_test_split(X, Y, test_size=.33,\n",
    "    random_state=10)\n",
    "model.fit(X_train, Y_train)\n",
    "prediction = model.predict(X_test)\n",
    "\n",
    "\"\"\"\n",
    "The confusion matrix evaluates accuracy within each category.\n",
    "[[truepositives falsenegatives]\n",
    " [falsepositives truenegatives]]\n",
    "\n",
    "The diagonal represents correct predictions,\n",
    "so we want those to be higher\n",
    "\"\"\"\n",
    "matrix = confusion_matrix(y_true=Y_test, y_pred=prediction)\n",
    "print(matrix)\n"
   ]
  },
  {
   "attachments": {
    "image.png": {
     "image/png": "[encoded data removed]"
    }
   },
   "cell_type": "markdown",
   "metadata": {},
   "source": [
    "![image.png](attachment:image.png)"
   ]
  },
  {
   "cell_type": "code",
   "execution_count": null,
   "metadata": {},
   "outputs": [],
   "source": []
  },
  {
   "cell_type": "code",
   "execution_count": null,
   "metadata": {},
   "outputs": [],
   "source": []
  },
  {
   "cell_type": "code",
   "execution_count": null,
   "metadata": {},
   "outputs": [],
   "source": []
  }
 ],
 "metadata": {
  "kernelspec": {
   "display_name": "Python 3",
   "language": "python",
   "name": "python3"
  },
  "language_info": {
   "codemirror_mode": {
    "name": "ipython",
    "version": 3
   },
   "file_extension": ".py",
   "mimetype": "text/x-python",
   "name": "python",
   "nbconvert_exporter": "python",
   "pygments_lexer": "ipython3",
   "version": "3.11.5"
  }
 },
 "nbformat": 4,
 "nbformat_minor": 2
}
