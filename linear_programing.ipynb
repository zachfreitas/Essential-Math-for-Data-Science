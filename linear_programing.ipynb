{
 "cells": [
  {
   "cell_type": "markdown",
   "metadata": {},
   "source": [
    "Linear Programing\n",
    "\n",
    "Pyomo and pulp are two good libraries to review.\n"
   ]
  },
  {
   "cell_type": "code",
   "execution_count": 3,
   "metadata": {},
   "outputs": [
    {
     "name": "stdout",
     "output_type": "stream",
     "text": [
      "Optimal\n",
      "5.9375\n",
      "4.6875\n"
     ]
    }
   ],
   "source": [
    "# Example A-11. Using Python PuLP to solve a linear programming system \n",
    "# GRAPH\" https://www.desmos.com/calculator/iildqi2vt7\n",
    "\n",
    "from pulp import *\n",
    "\n",
    "# declare your variables\n",
    "x = LpVariable(\"x\", 0)   # 0<=x\n",
    "y = LpVariable(\"y\", 0) # 0<=y\n",
    "\n",
    "# defines the problem\n",
    "prob = LpProblem(\"factory_problem\", LpMaximize)\n",
    "\n",
    "# defines the constraints\n",
    "prob += x + 3*y <= 20\n",
    "prob += 6*x +2*y <= 45\n",
    "\n",
    "# defines the objective function to maximize\n",
    "prob += 200*x + 300*y\n",
    "\n",
    "# solve the problem\n",
    "status = prob.solve()\n",
    "print(LpStatus[status])\n",
    "\n",
    "# print the results x = 5.9375, y = 4.6875\n",
    "print(value(x))\n",
    "print(value(y))"
   ]
  },
  {
   "cell_type": "code",
   "execution_count": 4,
   "metadata": {},
   "outputs": [
    {
     "name": "stdout",
     "output_type": "stream",
     "text": [
      "Optimal\n",
      "5.0\n",
      "5.0\n"
     ]
    }
   ],
   "source": [
    "# Example A-11. Using Python PuLP to solve a linear programming system \n",
    "# GRAPH\" https://www.desmos.com/calculator/iildqi2vt7\n",
    "\n",
    "from pulp import *\n",
    "\n",
    "# declare your variables\n",
    "x = LpVariable(\"x\", 0, cat=LpInteger)   # 0<=x\n",
    "y = LpVariable(\"y\", 0, cat=LpInteger) # 0<=y\n",
    "\n",
    "# defines the problem\n",
    "prob = LpProblem(\"factory_problem\", LpMaximize)\n",
    "\n",
    "# defines the constraints\n",
    "prob += x + 3*y <= 20\n",
    "prob += 6*x +2*y <= 45\n",
    "\n",
    "# defines the objective function to maximize\n",
    "prob += 200*x + 300*y\n",
    "\n",
    "# solve the problem\n",
    "status = prob.solve()\n",
    "print(LpStatus[status])\n",
    "\n",
    "# print the results x = 5.9375, y = 4.6875\n",
    "print(value(x))\n",
    "print(value(y))"
   ]
  }
 ],
 "metadata": {
  "kernelspec": {
   "display_name": "Python 3",
   "language": "python",
   "name": "python3"
  },
  "language_info": {
   "codemirror_mode": {
    "name": "ipython",
    "version": 3
   },
   "file_extension": ".py",
   "mimetype": "text/x-python",
   "name": "python",
   "nbconvert_exporter": "python",
   "pygments_lexer": "ipython3",
   "version": "3.11.5"
  }
 },
 "nbformat": 4,
 "nbformat_minor": 2
}
