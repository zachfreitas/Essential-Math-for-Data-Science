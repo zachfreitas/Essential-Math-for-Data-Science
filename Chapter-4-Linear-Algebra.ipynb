{
 "cells": [
  {
   "cell_type": "code",
   "execution_count": 2,
   "metadata": {},
   "outputs": [
    {
     "name": "stdout",
     "output_type": "stream",
     "text": [
      "[3, 2]\n"
     ]
    }
   ],
   "source": [
    "# Example 4-1. Declaring a vector in Python using a list \n",
    " \n",
    "v = [3, 2]\n",
    "print(v)\n"
   ]
  },
  {
   "cell_type": "code",
   "execution_count": 3,
   "metadata": {},
   "outputs": [
    {
     "name": "stdout",
     "output_type": "stream",
     "text": [
      "[3 2]\n"
     ]
    }
   ],
   "source": [
    "# Example 4-2. Declaring a vector in Python using NumPy \n",
    "import numpy as np\n",
    "\n",
    "v = np.array([3, 2])\n",
    "print(v)\n"
   ]
  },
  {
   "cell_type": "code",
   "execution_count": 4,
   "metadata": {},
   "outputs": [
    {
     "name": "stdout",
     "output_type": "stream",
     "text": [
      "[4 1 2]\n"
     ]
    }
   ],
   "source": [
    "# Example 4-3. Declaring a three-dimensional vector in Python using NumPy \n",
    "import numpy as np\n",
    "v = np.array([4, 1, 2])\n",
    "print(v)"
   ]
  },
  {
   "cell_type": "code",
   "execution_count": 5,
   "metadata": {},
   "outputs": [
    {
     "name": "stdout",
     "output_type": "stream",
     "text": [
      "[6 1 5 8 3]\n"
     ]
    }
   ],
   "source": [
    "# Example 4-4. Declaring a five-dimensional vector in Python using NumPy \n",
    "import numpy as np\n",
    "v = np.array([6, 1, 5, 8, 3])\n",
    "print(v)"
   ]
  },
  {
   "cell_type": "code",
   "execution_count": 6,
   "metadata": {},
   "outputs": [
    {
     "name": "stdout",
     "output_type": "stream",
     "text": [
      "[5 1]\n"
     ]
    }
   ],
   "source": [
    "# Example 4-5. Adding two vectors in Python using NumPy \n",
    "from numpy import array\n",
    "\n",
    "v = array([3,2])\n",
    "w = array([2,-1])\n",
    "\n",
    "# sum the vectors\n",
    "v_plus_w = v + w\n",
    "\n",
    "# display summed vector\n",
    "print(v_plus_w) # [5, 1]"
   ]
  },
  {
   "cell_type": "code",
   "execution_count": 7,
   "metadata": {},
   "outputs": [
    {
     "name": "stdout",
     "output_type": "stream",
     "text": [
      "[6. 2.]\n"
     ]
    }
   ],
   "source": [
    "# Example 4-6. Scaling a number in Python using NumPy \n",
    "\n",
    "from numpy import array\n",
    "\n",
    "v = array([3,1])\n",
    "\n",
    "# scale the vector\n",
    "scaled_v = 2.0 * v\n",
    "\n",
    "# display scaled vector\n",
    "print(scaled_v) # [6 2]"
   ]
  },
  {
   "cell_type": "code",
   "execution_count": 8,
   "metadata": {},
   "outputs": [
    {
     "name": "stdout",
     "output_type": "stream",
     "text": [
      "[3 2]\n"
     ]
    }
   ],
   "source": [
    "# Example 4-7. Matrix vector multiplication in NumPy \n",
    "from numpy import array\n",
    "\n",
    "# compose basis matrix with i-hat and j-hat\n",
    "basis = array(\n",
    "    [[3, 0],\n",
    "     [0, 2]]\n",
    " )\n",
    "\n",
    "# declare vector v\n",
    "v = array([1,1])\n",
    "\n",
    "# create new vector\n",
    "# by transforming v with dot product\n",
    "new_v = basis.dot(v)\n",
    "\n",
    "print(new_v) # [3, 2]"
   ]
  },
  {
   "cell_type": "code",
   "execution_count": 9,
   "metadata": {},
   "outputs": [
    {
     "name": "stdout",
     "output_type": "stream",
     "text": [
      "[2 3]\n"
     ]
    }
   ],
   "source": [
    "# Example 4-8. Separating the basis vectors and applying them as a transformation \n",
    "from numpy import array\n",
    "\n",
    "# Declare i-hat and j-hat\n",
    "i_hat = array([2, 0])\n",
    "j_hat = array([0, 3])\n",
    "\n",
    "# compose basis matrix using i-hat and j-hat\n",
    "# also need to transpose rows into columns\n",
    "basis = array([i_hat, j_hat]).transpose()\n",
    "\n",
    "# declare vector v\n",
    "v = array([1,1])\n",
    "\n",
    "# create new vector\n",
    "# by transforming v with dot product\n",
    "new_v = basis.dot(v)\n",
    "\n",
    "print(new_v) # [2, 3]"
   ]
  },
  {
   "cell_type": "code",
   "execution_count": 10,
   "metadata": {},
   "outputs": [
    {
     "name": "stdout",
     "output_type": "stream",
     "text": [
      "[4 3]\n"
     ]
    }
   ],
   "source": [
    "# Example 4-9. Transforming a vector using NumPy \n",
    "from numpy import array\n",
    "\n",
    "# Declare i-hat and j-hat\n",
    "i_hat = array([2, 0])\n",
    "j_hat = array([0, 3])\n",
    "\n",
    "# compose basis matrix using i-hat and j-hat\n",
    "# also need to transpose rows into columns\n",
    "basis = array([i_hat, j_hat]).transpose()\n",
    "\n",
    "\n",
    "# declare vector v 0\n",
    "v = array([2,1])\n",
    "\n",
    "# create new vector\n",
    "# by transforming v with dot product\n",
    "new_v = basis.dot(v)\n",
    "\n",
    "print(new_v) # [4, 3]"
   ]
  },
  {
   "cell_type": "code",
   "execution_count": 11,
   "metadata": {},
   "outputs": [
    {
     "name": "stdout",
     "output_type": "stream",
     "text": [
      "[6 5]\n"
     ]
    }
   ],
   "source": [
    "# Example 4-10. A more complicated transformation \n",
    "from numpy import array\n",
    "\n",
    "# Declare i-hat and j-hat\n",
    "i_hat = array([2, 3])\n",
    "j_hat = array([2, -1])\n",
    "\n",
    "# compose basis matrix using i-hat and j-hat\n",
    "# also need to transpose rows into columns\n",
    "basis = array([i_hat, j_hat]).transpose()\n",
    "\n",
    "# declare vector v 0\n",
    "v = array([2,1])\n",
    "\n",
    "# create new vector\n",
    "# by transforming v with dot product\n",
    "new_v = basis.dot(v)\n",
    "\n",
    "print(new_v) # [6, 5]"
   ]
  },
  {
   "cell_type": "code",
   "execution_count": 14,
   "metadata": {},
   "outputs": [
    {
     "name": "stdout",
     "output_type": "stream",
     "text": [
      "COMBINED MATRIX:\n",
      " [[ 1 -1]\n",
      " [ 1  0]]\n",
      "[-1  1]\n"
     ]
    }
   ],
   "source": [
    "# Example 4-11. Combining two transformations \n",
    "from numpy import array\n",
    "\n",
    "# Transformation 1\n",
    "i_hat1 = array([0, 1])\n",
    "j_hat1 = array([-1, 0])\n",
    "transform1 = array([i_hat1, j_hat1]).transpose()\n",
    "\n",
    "# Transformation 2\n",
    "i_hat2 = array([1, 0])\n",
    "j_hat2 = array([1, 1])\n",
    "\n",
    "transform2 = array([i_hat2, j_hat2]).transpose()\n",
    "\n",
    "# Combine Transformations\n",
    "combined = transform2 @ transform1\n",
    "\n",
    "# Test\n",
    "print(\"COMBINED MATRIX:\\n {}\".format(combined))\n",
    "\n",
    "v = array([1, 2])\n",
    "print(combined.dot(v))  # [-1, 1]\n",
    "\n"
   ]
  },
  {
   "cell_type": "code",
   "execution_count": 16,
   "metadata": {},
   "outputs": [
    {
     "name": "stdout",
     "output_type": "stream",
     "text": [
      "COMBINED MATRIX:\n",
      " [[ 0 -1]\n",
      " [ 1  1]]\n",
      "[-2  3]\n"
     ]
    }
   ],
   "source": [
    "# Example 4-12. Applying the transformations in reverse \n",
    "from numpy import array\n",
    "\n",
    "# Transformation 1\n",
    "i_hat1 = array([0, 1])\n",
    "j_hat1 = array([-1, 0])\n",
    "transform1 = array([i_hat1, j_hat1]).transpose()\n",
    "\n",
    "# Transformation 2\n",
    "i_hat2 = array([1, 0])\n",
    "j_hat2 = array([1, 1])\n",
    "transform2 = array([i_hat2, j_hat2]).transpose()\n",
    "\n",
    "# Combine Transformations, apply sheer first and then rotation\n",
    "combined = transform1 @ transform2\n",
    "\n",
    "# Test\n",
    "print(\"COMBINED MATRIX:\\n {}\".format(combined))\n",
    "\n",
    "v = array([1, 2])\n",
    "print(combined.dot(v)) # [-2, 3]"
   ]
  },
  {
   "cell_type": "markdown",
   "metadata": {},
   "source": [
    "## Determinants\n",
    "\n",
    "Testing for a 0 determinant is highly helpful to determine if a transformation has linear dependence. When you encounter this you will likely find a difficult or unsolvable problem on your hands. Matrixes with 0 determinant are ones on a single number line no matter the number of dimensions.\n"
   ]
  },
  {
   "cell_type": "code",
   "execution_count": 4,
   "metadata": {},
   "outputs": [
    {
     "name": "stdout",
     "output_type": "stream",
     "text": [
      "Basis:\n",
      " [[3 0]\n",
      " [0 2]]\n",
      "\n",
      "Determinant: 6.0\n"
     ]
    }
   ],
   "source": [
    "# Example 4-13. Calculating a determinant \n",
    "from numpy.linalg import det\n",
    "from numpy import array\n",
    "\n",
    "i_hat = array([3, 0])\n",
    "j_hat = array([0, 2])\n",
    "\n",
    "basis = array([i_hat, j_hat]).transpose()\n",
    "\n",
    "print('Basis:\\n',basis)\n",
    "\n",
    "determinant = det(basis)\n",
    "print('\\nDeterminant:', determinant) # prints 6.0\n"
   ]
  },
  {
   "cell_type": "code",
   "execution_count": 5,
   "metadata": {},
   "outputs": [
    {
     "name": "stdout",
     "output_type": "stream",
     "text": [
      "Basis:\n",
      " [[1 1]\n",
      " [0 1]]\n",
      "\n",
      "Determinant: 1.0\n"
     ]
    }
   ],
   "source": [
    "# Example 4-14. A determinant for a shear \n",
    "from numpy.linalg import det\n",
    "from numpy import array\n",
    "\n",
    "i_hat = array([1, 0])\n",
    "j_hat = array([1, 1])\n",
    "\n",
    "basis = array([i_hat, j_hat]).transpose()\n",
    "\n",
    "print('Basis:\\n',basis)\n",
    "\n",
    "determinant = det(basis)\n",
    "\n",
    "print('\\nDeterminant:', determinant)  # prints 1.0"
   ]
  },
  {
   "cell_type": "code",
   "execution_count": 7,
   "metadata": {},
   "outputs": [
    {
     "name": "stdout",
     "output_type": "stream",
     "text": [
      "Basis:\n",
      " [[-2  1]\n",
      " [ 1  2]]\n",
      "\n",
      "Determinant: -5.000000000000001\n"
     ]
    }
   ],
   "source": [
    "# Example 4-15. A negative determinant \n",
    "from numpy.linalg import det\n",
    "from numpy import array\n",
    "\n",
    "i_hat = array([-2, 1])\n",
    "j_hat = array([1, 2])\n",
    "\n",
    "basis = array([i_hat, j_hat]).transpose()\n",
    "\n",
    "print('Basis:\\n',basis)\n",
    "\n",
    "determinant = det(basis)\n",
    "\n",
    "print('\\nDeterminant:', determinant) # prints -5.0"
   ]
  },
  {
   "cell_type": "code",
   "execution_count": 9,
   "metadata": {},
   "outputs": [
    {
     "name": "stdout",
     "output_type": "stream",
     "text": [
      "Basis:\n",
      " [[-2.   3. ]\n",
      " [ 1.  -1.5]]\n",
      "\n",
      "Determinant: 0.0\n"
     ]
    }
   ],
   "source": [
    "# Example 4-16. A determinant of zero \n",
    "from numpy.linalg import det\n",
    "from numpy import array\n",
    "\n",
    "i_hat = array([-2, 1])\n",
    "j_hat = array([3, -1.5])\n",
    "\n",
    "basis = array([i_hat, j_hat]).transpose()\n",
    "\n",
    "print('Basis:\\n',basis)\n",
    "\n",
    "determinant = det(basis)\n",
    "\n",
    "print('\\nDeterminant:', determinant) # prints 0.0"
   ]
  },
  {
   "cell_type": "markdown",
   "metadata": {},
   "source": [
    "## Linear Equations"
   ]
  },
  {
   "cell_type": "code",
   "execution_count": 11,
   "metadata": {},
   "outputs": [
    {
     "name": "stdout",
     "output_type": "stream",
     "text": [
      "INVERSE:\n",
      " Matrix([[-1/2, 0, 1/3], [11/2, -2, -4/3], [-2, 1, 1/3]])\n",
      "\n",
      "IDENTITY:\n",
      " Matrix([[1, 0, 0], [0, 1, 0], [0, 0, 1]])\n"
     ]
    }
   ],
   "source": [
    "# Example 4-17. Using SymPy to study the inverse and identity matrix \n",
    "from sympy import *\n",
    "\n",
    "# 4x + 2y + 4z = 44\n",
    "# 5x + 3y + 7z = 56\n",
    "# 9x + 3y + 6z = 72\n",
    "\n",
    "A = Matrix([\n",
    "    [4, 2, 4],\n",
    "    [5, 3, 7],\n",
    "    [9, 3, 6]\n",
    "])\n",
    "\n",
    "# dot product between A and its inverse\n",
    "# will produce identity function\n",
    "inverse = A.inv()\n",
    "identity = inverse * A\n",
    "\n",
    "# prints Matrix([[-1/2, 0, 1/3], [11/2, -2, -4/3], [-2, 1, 1/3]])\n",
    "print(\"INVERSE:\\n {}\".format(inverse))\n",
    "\n",
    "# prints Matrix([[1, 0, 0], [0, 1, 0], [0, 0, 1]])\n",
    "print(\"\\nIDENTITY:\\n {}\".format(identity))"
   ]
  },
  {
   "cell_type": "code",
   "execution_count": 13,
   "metadata": {},
   "outputs": [
    {
     "name": "stdout",
     "output_type": "stream",
     "text": [
      "[ 2. 34. -8.]\n"
     ]
    }
   ],
   "source": [
    "# Example 4-18. Using NumPy to solve a system of equations \n",
    "from numpy import array\n",
    "from numpy.linalg import inv\n",
    "\n",
    "# 4x + 2y + 4z = 44\n",
    "# 5x + 3y + 7z = 56\n",
    "# 9x + 3y + 6z = 72\n",
    "\n",
    "A = array([\n",
    "    [4, 2, 4],\n",
    "    [5, 3, 7],\n",
    "    [9, 3, 6]\n",
    "])\n",
    "\n",
    "B = array([\n",
    "    44,\n",
    "    56,\n",
    "    72\n",
    "])\n",
    "\n",
    "X = inv(A).dot(B)\n",
    "\n",
    "print(X) # [ 2. 34. -8.] So x = 2, y = 34, and z = –8. \n"
   ]
  },
  {
   "cell_type": "code",
   "execution_count": 14,
   "metadata": {},
   "outputs": [
    {
     "name": "stdout",
     "output_type": "stream",
     "text": [
      "Matrix([[2], [34], [-8]])\n"
     ]
    }
   ],
   "source": [
    "# Example 4-19. Using SymPy to solve a system of equations \n",
    "from sympy import *\n",
    "\n",
    "# 4x + 2y + 4z = 44\n",
    "# 5x + 3y + 7z = 56\n",
    "# 9x + 3y + 6z = 72\n",
    "\n",
    "A = Matrix([\n",
    "    [4, 2, 4],\n",
    "    [5, 3, 7],\n",
    "    [9, 3, 6]\n",
    "])\n",
    "\n",
    "B = Matrix([\n",
    "    44,\n",
    "    56,\n",
    "    72\n",
    "])\n",
    "\n",
    "X = A.inv() * B\n",
    "\n",
    "print(X) # Matrix([[2], [34], [-8]]) So x = 2, y = 34, and z = –8. "
   ]
  },
  {
   "cell_type": "markdown",
   "metadata": {},
   "source": [
    "## Eigenvectors and Eigenvalues\n",
    "Matrix decomposition: \n",
    "\n",
    "    eigendecomposition\n"
   ]
  },
  {
   "cell_type": "code",
   "execution_count": 16,
   "metadata": {},
   "outputs": [
    {
     "name": "stdout",
     "output_type": "stream",
     "text": [
      "EIGENVALUES\n",
      "[-0.46410162  6.46410162]\n",
      "\n",
      "EIGENVECTORS\n",
      "[[-0.80689822 -0.34372377]\n",
      " [ 0.59069049 -0.9390708 ]]\n"
     ]
    },
    {
     "data": {
      "text/plain": [
       "'\\nEIGENVALUES\\n[-0.46410162  6.46410162]\\n\\nEIGENVECTORS\\n[[-0.80689822 -0.34372377]\\n[ 0.59069049 -0.9390708 ]]\\n'"
      ]
     },
     "execution_count": 16,
     "metadata": {},
     "output_type": "execute_result"
    }
   ],
   "source": [
    "# Example 4-20. Performing eigendecomposition in NumPy \n",
    "from numpy import array, diag\n",
    "from numpy.linalg import eig, inv\n",
    "\n",
    "A = array([\n",
    "    [1, 2],\n",
    "    [4, 5]\n",
    "])\n",
    "\n",
    "eigenvals, eigenvecs = eig(A)\n",
    "\n",
    "print(\"EIGENVALUES\")\n",
    "print(eigenvals)\n",
    "print(\"\\nEIGENVECTORS\")\n",
    "print(eigenvecs)\n",
    "\n",
    "\"\"\"\n",
    "EIGENVALUES\n",
    "[-0.46410162  6.46410162]\n",
    "\n",
    "EIGENVECTORS\n",
    "[[-0.80689822 -0.34372377]\n",
    "[ 0.59069049 -0.9390708 ]]\n",
    "\"\"\"\n"
   ]
  },
  {
   "cell_type": "code",
   "execution_count": 17,
   "metadata": {},
   "outputs": [
    {
     "name": "stdout",
     "output_type": "stream",
     "text": [
      "EIGENVALUES\n",
      "[-0.46410162  6.46410162]\n",
      "\n",
      "EIGENVECTORS\n",
      "[[-0.80689822 -0.34372377]\n",
      " [ 0.59069049 -0.9390708 ]]\n",
      "\n",
      "REBUILD MATRIX\n",
      "[[1. 2.]\n",
      " [4. 5.]]\n"
     ]
    },
    {
     "data": {
      "text/plain": [
       "'\\nEIGENVALUES\\n[-0.46410162  6.46410162]\\n\\nEIGENVECTORS\\n[[-0.80689822 -0.34372377]\\n [ 0.59069049 -0.9390708 ]]\\n\\nREBUILD MATRIX\\n[[1. 2.]\\n [4. 5.]]\\n'"
      ]
     },
     "execution_count": 17,
     "metadata": {},
     "output_type": "execute_result"
    }
   ],
   "source": [
    "# Example 4-21. Decomposing and recomposing a matrix in NumPy \n",
    "from numpy import array, diag\n",
    "from numpy.linalg import eig, inv\n",
    "\n",
    "A = array([\n",
    "    [1, 2],\n",
    "    [4, 5]\n",
    "])\n",
    "\n",
    "eigenvals, eigenvecs = eig(A)\n",
    "\n",
    "print(\"EIGENVALUES\")\n",
    "print(eigenvals)\n",
    "print(\"\\nEIGENVECTORS\")\n",
    "print(eigenvecs)\n",
    "\n",
    "print(\"\\nREBUILD MATRIX\")\n",
    "Q = eigenvecs\n",
    "R = inv(Q)\n",
    "\n",
    "L = diag(eigenvals)\n",
    "B = Q @ L @ R\n",
    "\n",
    "print(B)\n",
    "\n",
    "\"\"\"\n",
    "EIGENVALUES\n",
    "[-0.46410162  6.46410162]\n",
    "\n",
    "EIGENVECTORS\n",
    "[[-0.80689822 -0.34372377]\n",
    " [ 0.59069049 -0.9390708 ]]\n",
    "\n",
    "REBUILD MATRIX\n",
    "[[1. 2.]\n",
    " [4. 5.]]\n",
    "\"\"\""
   ]
  },
  {
   "cell_type": "markdown",
   "metadata": {},
   "source": [
    "# Exercises \n",
    "\n",
    "1. Vector $\\vec{v}$ has a value of [1, 2] but then a transformation happens. $\\hat{i}$ lands at [2, 0] and $\\hat{j}$ lands at [0, 1.5]. Where does $\\vec{v}$ land? \n",
    "\n",
    "Answer: $\\vec{v}$ lands at [2. 3.]"
   ]
  },
  {
   "cell_type": "code",
   "execution_count": 24,
   "metadata": {},
   "outputs": [
    {
     "name": "stdout",
     "output_type": "stream",
     "text": [
      "[2. 3.]\n"
     ]
    }
   ],
   "source": [
    "from numpy import array\n",
    "\n",
    "v = array([1,2])\n",
    "\n",
    "i_hat = array([2, 0])\n",
    "j_hat = array([0, 1.5])\n",
    "\n",
    "# fix this line\n",
    "basis = array([i_hat, j_hat])\n",
    "\n",
    "# transform vector v into w\n",
    "w = basis.dot(v)\n",
    "\n",
    "print(w) # [2. 3.]\n"
   ]
  },
  {
   "cell_type": "markdown",
   "metadata": {},
   "source": [
    "2. Vector $\\vec{v}$ has a value of [1, 2] but then a transformation happens. $\\hat{i}$ lands at [-2, 1] and $\\hat{j}$ lands at [1, -2]. Where does $\\vec{v}$ land?\n",
    "\n",
    "Answer: $\\vec{v}$ lands at [ 0, -3]"
   ]
  },
  {
   "cell_type": "code",
   "execution_count": 25,
   "metadata": {},
   "outputs": [
    {
     "name": "stdout",
     "output_type": "stream",
     "text": [
      "[ 0 -3]\n"
     ]
    }
   ],
   "source": [
    "from numpy import array\n",
    "\n",
    "v = array([1,2])\n",
    "\n",
    "i_hat = array([-2, 1])\n",
    "j_hat = array([1, -2])\n",
    "\n",
    "# fix this line\n",
    "basis = array([i_hat, j_hat])\n",
    "\n",
    "# transform vector v into w\n",
    "w = basis.dot(v)\n",
    "\n",
    "print(w) # [ 0 -3]"
   ]
  },
  {
   "cell_type": "markdown",
   "metadata": {},
   "source": [
    "3. A transformation $\\hat{i}$ lands at [1, 0] and $\\hat{j}$ lands at [2, 2]. What is the determinant of this transformation?\n",
    "\n",
    "Answer:\n",
    "The determinant of this transformation 2."
   ]
  },
  {
   "cell_type": "code",
   "execution_count": 18,
   "metadata": {},
   "outputs": [
    {
     "name": "stdout",
     "output_type": "stream",
     "text": [
      "Basis:\n",
      " [[1 2]\n",
      " [0 2]]\n",
      "\n",
      "Determinant: 2.0\n"
     ]
    }
   ],
   "source": [
    "from numpy.linalg import det\n",
    "from numpy import array\n",
    "\n",
    "i_hat = array([1, 0])\n",
    "j_hat = array([2, 2])\n",
    "\n",
    "basis = array([i_hat, j_hat]).transpose()\n",
    "\n",
    "print('Basis:\\n',basis)\n",
    "\n",
    "determinant = det(basis)\n",
    "\n",
    "print('\\nDeterminant:', determinant)  # prints 1.0"
   ]
  },
  {
   "cell_type": "markdown",
   "metadata": {},
   "source": [
    "4. Can two or more linear transformations be done in single linear transformation? Why or why not?\n",
    "\n",
    "Answer:\n",
    "Yes, because matrix multiplication allows us to combine several matrices into a single matrix representing one consolidated transformation.\n"
   ]
  },
  {
   "cell_type": "markdown",
   "metadata": {},
   "source": [
    "5. Solve the system of equations for x, y, and z:\n",
    "\n",
    "$$3x+1y+0z=54$$\n",
    "$$2x+4y+1z=12$$\n",
    "$$3x+1y+8z=6$$\n",
    "\n",
    "Answer:"
   ]
  },
  {
   "cell_type": "code",
   "execution_count": 28,
   "metadata": {},
   "outputs": [
    {
     "name": "stdout",
     "output_type": "stream",
     "text": [
      "[19.8 -5.4 -6. ]\n"
     ]
    }
   ],
   "source": [
    "from numpy import array\n",
    "from numpy.linalg import inv\n",
    "\n",
    "# 3x+1y+0z=54\n",
    "# 2x+4y+1z=12\n",
    "# 3x+1y+8z=6\n",
    "\n",
    "A = array([\n",
    "    [3, 1, 0],\n",
    "    [2, 4, 1],\n",
    "    [3, 1, 8]\n",
    "])\n",
    "\n",
    "B = array([\n",
    "    54,\n",
    "    12,\n",
    "    6\n",
    "])\n",
    "\n",
    "X = inv(A).dot(B)\n",
    "\n",
    "print(X) # [19.8 -5.4 -6. ]"
   ]
  },
  {
   "cell_type": "markdown",
   "metadata": {},
   "source": [
    "6. Is the following matrix linearly dependent? Why or why not?\n",
    "\n",
    "$$\n",
    "\t\\begin{bmatrix} \n",
    "\t2 & 1 \\\\\n",
    "\t6 & 3 \\\\\n",
    "\t\\end{bmatrix}\n",
    "\t\\quad\n",
    "\t$$\n",
    "\n",
    "Answer: Yes the above matrix is linearly dependent because its determinate is zero."
   ]
  },
  {
   "cell_type": "code",
   "execution_count": 31,
   "metadata": {},
   "outputs": [
    {
     "name": "stdout",
     "output_type": "stream",
     "text": [
      "Basis:\n",
      " [[2 1]\n",
      " [6 3]]\n",
      "\n",
      "Determinant: 0.0\n"
     ]
    }
   ],
   "source": [
    "# Using Numpy\n",
    "from numpy.linalg import det\n",
    "from numpy import array\n",
    "\n",
    "i_hat = array([2, 6])\n",
    "j_hat = array([1, 3])\n",
    "\n",
    "basis = array([i_hat, j_hat]).transpose()\n",
    "\n",
    "print('Basis:\\n',basis)\n",
    "\n",
    "determinant = det(basis)\n",
    "\n",
    "print('\\nDeterminant:', determinant) # prints 0.0"
   ]
  },
  {
   "cell_type": "code",
   "execution_count": 33,
   "metadata": {},
   "outputs": [
    {
     "name": "stdout",
     "output_type": "stream",
     "text": [
      "\n",
      "Determinant: 0\n"
     ]
    }
   ],
   "source": [
    "# Using Sympy\n",
    "from sympy import *\n",
    "\n",
    "basis = Matrix([\n",
    "    [2,1],\n",
    "    [6,3]\n",
    "])\n",
    "\n",
    "determinant = det(basis)\n",
    "\n",
    "print('\\nDeterminant:', determinant) # prints 0.0"
   ]
  },
  {
   "cell_type": "markdown",
   "metadata": {},
   "source": []
  }
 ],
 "metadata": {
  "kernelspec": {
   "display_name": "Python 3",
   "language": "python",
   "name": "python3"
  },
  "language_info": {
   "codemirror_mode": {
    "name": "ipython",
    "version": 3
   },
   "file_extension": ".py",
   "mimetype": "text/x-python",
   "name": "python",
   "nbconvert_exporter": "python",
   "pygments_lexer": "ipython3",
   "version": "3.11.5"
  }
 },
 "nbformat": 4,
 "nbformat_minor": 2
}
