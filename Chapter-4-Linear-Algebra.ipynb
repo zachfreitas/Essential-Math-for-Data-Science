{
 "cells": [
  {
   "cell_type": "code",
   "execution_count": 2,
   "metadata": {},
   "outputs": [
    {
     "name": "stdout",
     "output_type": "stream",
     "text": [
      "[3, 2]\n"
     ]
    }
   ],
   "source": [
    "# Example 4-1. Declaring a vector in Python using a list \n",
    " \n",
    "v = [3, 2]\n",
    "print(v)\n"
   ]
  },
  {
   "cell_type": "code",
   "execution_count": 3,
   "metadata": {},
   "outputs": [
    {
     "name": "stdout",
     "output_type": "stream",
     "text": [
      "[3 2]\n"
     ]
    }
   ],
   "source": [
    "# Example 4-2. Declaring a vector in Python using NumPy \n",
    "import numpy as np\n",
    "\n",
    "v = np.array([3, 2])\n",
    "print(v)\n"
   ]
  },
  {
   "cell_type": "code",
   "execution_count": 4,
   "metadata": {},
   "outputs": [
    {
     "name": "stdout",
     "output_type": "stream",
     "text": [
      "[4 1 2]\n"
     ]
    }
   ],
   "source": [
    "# Example 4-3. Declaring a three-dimensional vector in Python using NumPy \n",
    "import numpy as np\n",
    "v = np.array([4, 1, 2])\n",
    "print(v)"
   ]
  },
  {
   "cell_type": "code",
   "execution_count": 5,
   "metadata": {},
   "outputs": [
    {
     "name": "stdout",
     "output_type": "stream",
     "text": [
      "[6 1 5 8 3]\n"
     ]
    }
   ],
   "source": [
    "# Example 4-4. Declaring a five-dimensional vector in Python using NumPy \n",
    "import numpy as np\n",
    "v = np.array([6, 1, 5, 8, 3])\n",
    "print(v)"
   ]
  },
  {
   "cell_type": "code",
   "execution_count": 6,
   "metadata": {},
   "outputs": [
    {
     "name": "stdout",
     "output_type": "stream",
     "text": [
      "[5 1]\n"
     ]
    }
   ],
   "source": [
    "# Example 4-5. Adding two vectors in Python using NumPy \n",
    "from numpy import array\n",
    "\n",
    "v = array([3,2])\n",
    "w = array([2,-1])\n",
    "\n",
    "# sum the vectors\n",
    "v_plus_w = v + w\n",
    "\n",
    "# display summed vector\n",
    "print(v_plus_w) # [5, 1]"
   ]
  },
  {
   "cell_type": "code",
   "execution_count": 7,
   "metadata": {},
   "outputs": [
    {
     "name": "stdout",
     "output_type": "stream",
     "text": [
      "[6. 2.]\n"
     ]
    }
   ],
   "source": [
    "# Example 4-6. Scaling a number in Python using NumPy \n",
    "\n",
    "from numpy import array\n",
    "\n",
    "v = array([3,1])\n",
    "\n",
    "# scale the vector\n",
    "scaled_v = 2.0 * v\n",
    "\n",
    "# display scaled vector\n",
    "print(scaled_v) # [6 2]"
   ]
  },
  {
   "cell_type": "code",
   "execution_count": 8,
   "metadata": {},
   "outputs": [
    {
     "name": "stdout",
     "output_type": "stream",
     "text": [
      "[3 2]\n"
     ]
    }
   ],
   "source": [
    "# Example 4-7. Matrix vector multiplication in NumPy \n",
    "from numpy import array\n",
    "\n",
    "# compose basis matrix with i-hat and j-hat\n",
    "basis = array(\n",
    "    [[3, 0],\n",
    "     [0, 2]]\n",
    " )\n",
    "\n",
    "# declare vector v\n",
    "v = array([1,1])\n",
    "\n",
    "# create new vector\n",
    "# by transforming v with dot product\n",
    "new_v = basis.dot(v)\n",
    "\n",
    "print(new_v) # [3, 2]"
   ]
  },
  {
   "cell_type": "code",
   "execution_count": 9,
   "metadata": {},
   "outputs": [
    {
     "name": "stdout",
     "output_type": "stream",
     "text": [
      "[2 3]\n"
     ]
    }
   ],
   "source": [
    "# Example 4-8. Separating the basis vectors and applying them as a transformation \n",
    "from numpy import array\n",
    "\n",
    "# Declare i-hat and j-hat\n",
    "i_hat = array([2, 0])\n",
    "j_hat = array([0, 3])\n",
    "\n",
    "# compose basis matrix using i-hat and j-hat\n",
    "# also need to transpose rows into columns\n",
    "basis = array([i_hat, j_hat]).transpose()\n",
    "\n",
    "# declare vector v\n",
    "v = array([1,1])\n",
    "\n",
    "# create new vector\n",
    "# by transforming v with dot product\n",
    "new_v = basis.dot(v)\n",
    "\n",
    "print(new_v) # [2, 3]"
   ]
  },
  {
   "cell_type": "code",
   "execution_count": 10,
   "metadata": {},
   "outputs": [
    {
     "name": "stdout",
     "output_type": "stream",
     "text": [
      "[4 3]\n"
     ]
    }
   ],
   "source": [
    "# Example 4-9. Transforming a vector using NumPy \n",
    "from numpy import array\n",
    "\n",
    "# Declare i-hat and j-hat\n",
    "i_hat = array([2, 0])\n",
    "j_hat = array([0, 3])\n",
    "\n",
    "# compose basis matrix using i-hat and j-hat\n",
    "# also need to transpose rows into columns\n",
    "basis = array([i_hat, j_hat]).transpose()\n",
    "\n",
    "\n",
    "# declare vector v 0\n",
    "v = array([2,1])\n",
    "\n",
    "# create new vector\n",
    "# by transforming v with dot product\n",
    "new_v = basis.dot(v)\n",
    "\n",
    "print(new_v) # [4, 3]"
   ]
  },
  {
   "cell_type": "code",
   "execution_count": 11,
   "metadata": {},
   "outputs": [
    {
     "name": "stdout",
     "output_type": "stream",
     "text": [
      "[6 5]\n"
     ]
    }
   ],
   "source": [
    "# Example 4-10. A more complicated transformation \n",
    "from numpy import array\n",
    "\n",
    "# Declare i-hat and j-hat\n",
    "i_hat = array([2, 3])\n",
    "j_hat = array([2, -1])\n",
    "\n",
    "# compose basis matrix using i-hat and j-hat\n",
    "# also need to transpose rows into columns\n",
    "basis = array([i_hat, j_hat]).transpose()\n",
    "\n",
    "# declare vector v 0\n",
    "v = array([2,1])\n",
    "\n",
    "# create new vector\n",
    "# by transforming v with dot product\n",
    "new_v = basis.dot(v)\n",
    "\n",
    "print(new_v) # [6, 5]"
   ]
  },
  {
   "cell_type": "code",
   "execution_count": 14,
   "metadata": {},
   "outputs": [
    {
     "name": "stdout",
     "output_type": "stream",
     "text": [
      "COMBINED MATRIX:\n",
      " [[ 1 -1]\n",
      " [ 1  0]]\n",
      "[-1  1]\n"
     ]
    }
   ],
   "source": [
    "# Example 4-11. Combining two transformations \n",
    "from numpy import array\n",
    "\n",
    "# Transformation 1\n",
    "i_hat1 = array([0, 1])\n",
    "j_hat1 = array([-1, 0])\n",
    "transform1 = array([i_hat1, j_hat1]).transpose()\n",
    "\n",
    "# Transformation 2\n",
    "i_hat2 = array([1, 0])\n",
    "j_hat2 = array([1, 1])\n",
    "\n",
    "transform2 = array([i_hat2, j_hat2]).transpose()\n",
    "\n",
    "# Combine Transformations\n",
    "combined = transform2 @ transform1\n",
    "\n",
    "# Test\n",
    "print(\"COMBINED MATRIX:\\n {}\".format(combined))\n",
    "\n",
    "v = array([1, 2])\n",
    "print(combined.dot(v))  # [-1, 1]\n",
    "\n"
   ]
  },
  {
   "cell_type": "code",
   "execution_count": 16,
   "metadata": {},
   "outputs": [
    {
     "name": "stdout",
     "output_type": "stream",
     "text": [
      "COMBINED MATRIX:\n",
      " [[ 0 -1]\n",
      " [ 1  1]]\n",
      "[-2  3]\n"
     ]
    }
   ],
   "source": [
    "# Example 4-12. Applying the transformations in reverse \n",
    "from numpy import array\n",
    "\n",
    "# Transformation 1\n",
    "i_hat1 = array([0, 1])\n",
    "j_hat1 = array([-1, 0])\n",
    "transform1 = array([i_hat1, j_hat1]).transpose()\n",
    "\n",
    "# Transformation 2\n",
    "i_hat2 = array([1, 0])\n",
    "j_hat2 = array([1, 1])\n",
    "transform2 = array([i_hat2, j_hat2]).transpose()\n",
    "\n",
    "# Combine Transformations, apply sheer first and then rotation\n",
    "combined = transform1 @ transform2\n",
    "\n",
    "# Test\n",
    "print(\"COMBINED MATRIX:\\n {}\".format(combined))\n",
    "\n",
    "v = array([1, 2])\n",
    "print(combined.dot(v)) # [-2, 3]"
   ]
  },
  {
   "cell_type": "markdown",
   "metadata": {},
   "source": [
    "## Determinants"
   ]
  },
  {
   "cell_type": "code",
   "execution_count": null,
   "metadata": {},
   "outputs": [],
   "source": []
  }
 ],
 "metadata": {
  "kernelspec": {
   "display_name": "Python 3",
   "language": "python",
   "name": "python3"
  },
  "language_info": {
   "codemirror_mode": {
    "name": "ipython",
    "version": 3
   },
   "file_extension": ".py",
   "mimetype": "text/x-python",
   "name": "python",
   "nbconvert_exporter": "python",
   "pygments_lexer": "ipython3",
   "version": "3.11.5"
  }
 },
 "nbformat": 4,
 "nbformat_minor": 2
}
