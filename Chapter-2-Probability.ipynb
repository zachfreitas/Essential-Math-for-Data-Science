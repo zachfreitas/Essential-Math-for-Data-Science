{
 "cells": [
  {
   "cell_type": "markdown",
   "metadata": {},
   "source": [
    "# Probability"
   ]
  },
  {
   "cell_type": "markdown",
   "metadata": {},
   "source": [
    "## Understanding Probability\n",
    "\n",
    "### Conversion from Odds to Probabilities and back."
   ]
  },
  {
   "cell_type": "code",
   "execution_count": null,
   "metadata": {},
   "outputs": [
    {
     "data": {
      "text/plain": [
       "0.7000000000000001"
      ]
     },
     "execution_count": 5,
     "metadata": {},
     "output_type": "execute_result"
    }
   ],
   "source": [
    "def odds2prob(odds):\n",
    "    return odds/(1 + odds)\n",
    "\n",
    "odds2prob(7/3) # Answer = .7"
   ]
  },
  {
   "cell_type": "code",
   "execution_count": 45,
   "metadata": {},
   "outputs": [
    {
     "name": "stdout",
     "output_type": "stream",
     "text": [
      "2.33333333333333\n"
     ]
    }
   ],
   "source": [
    "from sympy import *\n",
    "def prob2odds(prob):    \n",
    "    \n",
    "    # Declare 'x' to SymPy\n",
    "    x = symbols('x', real = True)\n",
    "    # Now just use Python syntax to declare function\n",
    "    f = x/(1 - x)\n",
    "    fx_i = f.subs(x, prob)\n",
    "    return print(fx_i) \n",
    "\n",
    "prob2odds(.7) # Answer = 2.33333"
   ]
  },
  {
   "cell_type": "markdown",
   "metadata": {},
   "source": [
    "## Probability Math\n",
    "### Joint Probability\n",
    "$P(A\\;AND\\;B) = P(A) * P(B)$\n",
    "\n",
    "What is the probability of getting one heads on a coin and getting a six on a die?"
   ]
  },
  {
   "cell_type": "code",
   "execution_count": null,
   "metadata": {},
   "outputs": [
    {
     "data": {
      "text/plain": [
       "0.08333333333333333"
      ]
     },
     "execution_count": 15,
     "metadata": {},
     "output_type": "execute_result"
    }
   ],
   "source": [
    "Heads = (1/2) # Getting Heads on a fair coin.\n",
    "Die = (1/6) # Getting a six on a die.as_integer_ratio\n",
    "\n",
    "Heads * Die"
   ]
  },
  {
   "cell_type": "markdown",
   "metadata": {},
   "source": [
    "### Union Probabilities\n",
    "Mutually exclusive events\n",
    "\n",
    "$P(A\\;OR\\;B) = P(A) + P(B)$\n",
    "\n",
    "Nonmutually exclusive events\n",
    "\n",
    "$P(A\\;OR\\;B) = P(A) + P(B) - P(A) * P(B)$\n"
   ]
  },
  {
   "cell_type": "markdown",
   "metadata": {},
   "source": [
    "What is the probability of getting  getting a six on a die twice? Mutually exclusive events."
   ]
  },
  {
   "cell_type": "code",
   "execution_count": null,
   "metadata": {},
   "outputs": [
    {
     "data": {
      "text/plain": [
       "0.3333333333333333"
      ]
     },
     "execution_count": 39,
     "metadata": {},
     "output_type": "execute_result"
    }
   ],
   "source": [
    "# mutually exclusive events, two roles with at least one six\n",
    "Die = (1/6) # Getting a six on a die.as_integer_ratio\n",
    "\n",
    "Die + Die # 1/3 or .3333333333333333"
   ]
  },
  {
   "cell_type": "code",
   "execution_count": null,
   "metadata": {},
   "outputs": [
    {
     "name": "stdout",
     "output_type": "stream",
     "text": [
      "0.3055555555555555\n"
     ]
    }
   ],
   "source": [
    "# mutually exclusive events, two roles with only one six\n",
    "Die = (1/6) # Getting a six on a die.as_integer_ratio\n",
    "\n",
    "list1 = [Die, Die] \n",
    " \n",
    "# using numpy.prod() to get the multiplications \n",
    "result1 = np.sum(list1) - np.prod(list1)\n",
    "\n",
    "print(result1)"
   ]
  },
  {
   "cell_type": "markdown",
   "metadata": {},
   "source": [
    "What is the probability of getting one heads on a coin or getting a six on a die? Nonmutually exclusive events."
   ]
  },
  {
   "cell_type": "code",
   "execution_count": null,
   "metadata": {},
   "outputs": [
    {
     "data": {
      "text/plain": [
       "0.5833333333333333"
      ]
     },
     "execution_count": 41,
     "metadata": {},
     "output_type": "execute_result"
    }
   ],
   "source": [
    "\n",
    "Heads = (1/2) # Getting Heads on a fair coin.\n",
    "Die = (1/6) # Getting a six on a die.as_integer_ratio\n",
    "\n",
    "Heads + Die - (Heads * Die)"
   ]
  },
  {
   "cell_type": "code",
   "execution_count": null,
   "metadata": {},
   "outputs": [
    {
     "name": "stdout",
     "output_type": "stream",
     "text": [
      "0.5833333333333333\n"
     ]
    }
   ],
   "source": [
    "# list using numpy.prod()\n",
    "import numpy as np\n",
    "Heads = (1/2) # Getting Heads on a fair coin.\n",
    "Die = (1/6) # Getting a six on a die.as_integer_ratio\n",
    "\n",
    "list1 = [Heads, Die] \n",
    " \n",
    "# using numpy.prod() to get the multiplications \n",
    "result1 = np.sum(list1) - np.prod(list1)\n",
    "\n",
    "print(result1)"
   ]
  },
  {
   "cell_type": "markdown",
   "metadata": {},
   "source": [
    "### Conditional Probability and \n",
    "$P(A\\;GIVEN\\;B)$ or $P(A|B)$\n",
    "\n",
    "### Bayes’ Theorem\n",
    "$P(A|B) = \\frac{P(B|A)*P(A)}{P(B)}$\n",
    "\n",
    "85% percent of cancer patients drank coffee\n",
    "\n",
    "65% of population drinks coffee\n",
    "\n",
    "0.5% of population diagnosed with cancer.\n",
    "\n",
    "We want to know how many of the people who drink coffee eventually get cancer."
   ]
  },
  {
   "cell_type": "code",
   "execution_count": null,
   "metadata": {},
   "outputs": [
    {
     "name": "stdout",
     "output_type": "stream",
     "text": [
      "0.006538461538461539\n"
     ]
    }
   ],
   "source": [
    "# Example 2-1. Using Bayes’ Theorem in Python \n",
    "p_coffee_drinker = .65\n",
    "p_cancer = .005\n",
    "p_coffee_drinker_given_cancer = .85\n",
    "\n",
    "p_cancer_given_coffee_drinker = p_coffee_drinker_given_cancer * p_cancer / p_coffee_drinker\n",
    "\n",
    "# prints 0.006538461538461539\n",
    "print(p_cancer_given_coffee_drinker)"
   ]
  },
  {
   "cell_type": "code",
   "execution_count": null,
   "metadata": {},
   "outputs": [
    {
     "data": {
      "text/plain": [
       "0.00425"
      ]
     },
     "execution_count": 51,
     "metadata": {},
     "output_type": "execute_result"
    }
   ],
   "source": [
    "# probability of someone having cancer and being a coffee drinker\n",
    "\n",
    "p_coffee_drinker_given_cancer * p_cancer"
   ]
  },
  {
   "cell_type": "code",
   "execution_count": null,
   "metadata": {},
   "outputs": [
    {
     "data": {
      "text/plain": [
       "0.00425"
      ]
     },
     "execution_count": 50,
     "metadata": {},
     "output_type": "execute_result"
    }
   ],
   "source": [
    "# probability of someone being a coffee drinker and having cancer\n",
    "\n",
    "p_cancer_given_coffee_drinker * p_coffee_drinker"
   ]
  },
  {
   "cell_type": "markdown",
   "metadata": {},
   "source": [
    "## Binomial Distribution"
   ]
  },
  {
   "cell_type": "code",
   "execution_count": null,
   "metadata": {},
   "outputs": [
    {
     "name": "stdout",
     "output_type": "stream",
     "text": [
      "0 - 9.999999999999973e-11\n",
      "1 - 8.999999999999976e-09\n",
      "2 - 3.6449999999999933e-07\n",
      "3 - 8.747999999999988e-06\n",
      "4 - 0.00013778099999999974\n",
      "5 - 0.0014880347999999982\n",
      "6 - 0.011160260999999989\n",
      "7 - 0.05739562799999997\n",
      "8 - 0.1937102444999998\n",
      "9 - 0.38742048899999976\n",
      "10 - 0.34867844010000015\n"
     ]
    }
   ],
   "source": [
    "# Example 2-2. Using SciPy for the binomial distribution\n",
    "from scipy.stats import binom\n",
    "\n",
    "n = 10\n",
    "p = 0.9\n",
    "\n",
    "for k in range(n + 1):\n",
    "    probability = binom.pmf(k, n, p)\n",
    "    print(\"{0} - {1}\".format(k, probability))"
   ]
  },
  {
   "cell_type": "markdown",
   "metadata": {},
   "source": [
    "### Beta Distribution\n",
    "The beta distribution allows us to see the likelihood of different underlying probabilities for an event to occur given alpha successes and beta failures.\n",
    "\n",
    "This is a great A/B Test Solution"
   ]
  },
  {
   "cell_type": "code",
   "execution_count": null,
   "metadata": {},
   "outputs": [
    {
     "name": "stdout",
     "output_type": "stream",
     "text": [
      "0.7748409780000002\n"
     ]
    }
   ],
   "source": [
    "# Example 2-3. Beta distribution using SciPy \n",
    "from scipy.stats import beta\n",
    "\n",
    "a = 8\n",
    "b = 2\n",
    "\n",
    "p = beta.cdf(.90, a, b)\n",
    "\n",
    "print(p) # 0.7748409780000001"
   ]
  },
  {
   "cell_type": "code",
   "execution_count": null,
   "metadata": {},
   "outputs": [
    {
     "name": "stdout",
     "output_type": "stream",
     "text": [
      "0.22515902199999982\n"
     ]
    }
   ],
   "source": [
    "# Example 2-4. Subtracting to get a right area in a beta distribution \n",
    "from scipy.stats import beta\n",
    "\n",
    "a = 8\n",
    "b = 2\n",
    "\n",
    "p = 1.0 - beta.cdf(.90, a, b)\n",
    "\n",
    "print(p) # 0.22515902199999993"
   ]
  },
  {
   "cell_type": "code",
   "execution_count": null,
   "metadata": {},
   "outputs": [
    {
     "name": "stdout",
     "output_type": "stream",
     "text": [
      "0.13163577484183686\n"
     ]
    }
   ],
   "source": [
    "# Example 2-5. A beta distribution with more trials \n",
    "from scipy.stats import beta\n",
    "\n",
    "a = 30\n",
    "b = 6\n",
    "\n",
    "p = 1.0 - beta.cdf(.90, a, b)\n",
    "\n",
    "print(p) # 0.13163577484183708"
   ]
  },
  {
   "cell_type": "code",
   "execution_count": null,
   "metadata": {},
   "outputs": [
    {
     "name": "stdout",
     "output_type": "stream",
     "text": [
      "0.3386333619999998\n"
     ]
    }
   ],
   "source": [
    "# Example 2-6. Beta distribution middle area using SciPy \n",
    "from scipy.stats import beta\n",
    "\n",
    "a = 8\n",
    "b = 2\n",
    "\n",
    "p = beta.cdf(.90, a, b) - beta.cdf(.80, a, b)\n",
    "\n",
    "print(p) # 0.33863336200000016"
   ]
  },
  {
   "cell_type": "code",
   "execution_count": null,
   "metadata": {},
   "outputs": [
    {
     "name": "stdout",
     "output_type": "stream",
     "text": [
      "0.5962725311986747\n"
     ]
    }
   ],
   "source": [
    "# Example 2-6. Beta distribution middle area using SciPy \n",
    "from scipy.stats import beta\n",
    "\n",
    "a = 30\n",
    "b = 6\n",
    "\n",
    "p = beta.cdf(.90, a, b) - beta.cdf(.80, a, b)\n",
    "\n",
    "print(p) # 0.33863336200000016"
   ]
  },
  {
   "cell_type": "markdown",
   "metadata": {},
   "source": [
    "# Exercises"
   ]
  },
  {
   "cell_type": "markdown",
   "metadata": {},
   "source": [
    "1. There is a 30% chance of rain today, and a 40% chance your umbrella order will arrive on time. You are eager to walk in the rain today and cannot do so without either! What is the probability it will rain AND your umbrella will arrive?\n",
    "\n",
    "This is Joint Probability \n",
    "$P(A\\;AND\\;B) = P(A) * P(B)$"
   ]
  },
  {
   "cell_type": "code",
   "execution_count": null,
   "metadata": {},
   "outputs": [
    {
     "name": "stdout",
     "output_type": "stream",
     "text": [
      "The probability it will rain AND your umbrella will arrive is 12%\n"
     ]
    }
   ],
   "source": [
    "Rain = (0.30) # Getting Heads on a fair coin.\n",
    "umbrella_arrives = (0.40) # Getting a six on a die.as_integer_ratio\n",
    "\n",
    "prob = (Rain * umbrella_arrives)\n",
    "\n",
    "print('The probability it will rain AND your umbrella will arrive is {:.0%}'.format(prob))"
   ]
  },
  {
   "cell_type": "markdown",
   "metadata": {},
   "source": [
    "2. There is a 30% chance of rain today, and a 40% chance your umbrella order will arrive on time. You will be able to run errands only if it does not rain or your umbrella arrives. What is the probability it will not rain OR your umbrella arrives? \n",
    "\n",
    "This is Union Probabilities for Nonmutually exclusive events\n",
    "\n",
    "$P(A\\;OR\\;B) = P(A) + P(B) - P(A) * P(B)$\n"
   ]
  },
  {
   "cell_type": "code",
   "execution_count": null,
   "metadata": {},
   "outputs": [
    {
     "name": "stdout",
     "output_type": "stream",
     "text": [
      "The probability it will not rain OR your umbrella arrives is 98%\n"
     ]
    }
   ],
   "source": [
    "p_rains = (0.30) # Probability it rains\n",
    "p_not_rains = 1.0 - Rain # Probability it dosen't rain\n",
    "p_umbrella_arrives = (0.40) # Probability your umbrella arrives on time.\n",
    "\n",
    "prob = (p_not_rains + p_umbrella_arrives) - (p_rains * p_umbrella_arrives)\n",
    "\n",
    "print('The probability it will not rain OR your umbrella arrives is {:.0%}'.format(prob))"
   ]
  },
  {
   "cell_type": "markdown",
   "metadata": {},
   "source": [
    "3. There is a 30% chance of rain today, and a 40% chance your umbrella order will arrive on time. However, you found out if it rains there is only a 20% chance your umbrella will arrive on time.\n",
    "What is the probability it will rain AND your umbrella will arrive on time? \n",
    "\n",
    "This is Conditional Probability and uses Bayes’ Theorem\n",
    "\n",
    "$P(A\\;GIVEN\\;B)$ or $P(A|B)$\n",
    "$$P(A|B) = \\frac{P(B|A)*P(A)}{P(B)}$$"
   ]
  },
  {
   "cell_type": "code",
   "execution_count": null,
   "metadata": {},
   "outputs": [
    {
     "name": "stdout",
     "output_type": "stream",
     "text": [
      "The probability it will rain AND your umbrella will arrive on time is 6%\n"
     ]
    }
   ],
   "source": [
    "# Using Bayes’ Theorem in Python \n",
    "p_rains = .30\n",
    "p_umbrella_arrives = .40\n",
    "p_umbrella_arrives_given_rains = .20\n",
    "\n",
    "prob = p_umbrella_arrives_given_rains * p_rains \n",
    "\n",
    "print('The probability it will rain AND your umbrella will arrive on time is {:.0%}'.format(prob))"
   ]
  },
  {
   "cell_type": "markdown",
   "metadata": {},
   "source": [
    "4. You have 137 passengers booked on a flight from Las Vegas to Dallas. However, it is Las Vegas on a Sunday morning and you estimate each passenger is 40% likely to not show up. You are trying to figure out how many seats to overbook so the plane does not fly empty. How likely is it at least 50 passengers will not show up? "
   ]
  },
  {
   "cell_type": "code",
   "execution_count": null,
   "metadata": {},
   "outputs": [
    {
     "name": "stdout",
     "output_type": "stream",
     "text": [
      "0.8220955881474251\n"
     ]
    }
   ],
   "source": [
    "from scipy.stats import binom\n",
    "\n",
    "n = 137\n",
    "p = .40\n",
    "\n",
    "p_50_or_more_noshows = 0.0\n",
    "\n",
    "for x in range(50,138):\n",
    "    p_50_or_more_noshows += binom.pmf(x, n, p)\n",
    "\n",
    "print(p_50_or_more_noshows) # 0.822095588147425 "
   ]
  },
  {
   "cell_type": "markdown",
   "metadata": {},
   "source": [
    "5. You flipped a coin 19 times and got heads 15 times and tails 4 times. Do you think this coin has any good probability of being fair? Why or why not?\n",
    "\n",
    "Result is about 0.99, so this coin is highly unlikely to be fair.\n"
   ]
  },
  {
   "cell_type": "code",
   "execution_count": null,
   "metadata": {},
   "outputs": [
    {
     "name": "stdout",
     "output_type": "stream",
     "text": [
      "0.9962310791015625\n"
     ]
    }
   ],
   "source": [
    "from scipy.stats import beta\n",
    "\n",
    "heads = 15\n",
    "tails = 4\n",
    "\n",
    "p = 1.0 - beta.cdf(.5, heads, tails)\n",
    "\n",
    "print(p) # 0.98046875\n",
    " "
   ]
  },
  {
   "cell_type": "code",
   "execution_count": null,
   "metadata": {},
   "outputs": [
    {
     "data": {
      "text/plain": [
       "0.21052631578947367"
      ]
     },
     "execution_count": 36,
     "metadata": {},
     "output_type": "execute_result"
    }
   ],
   "source": [
    "4/19"
   ]
  },
  {
   "cell_type": "code",
   "execution_count": null,
   "metadata": {},
   "outputs": [
    {
     "name": "stdout",
     "output_type": "stream",
     "text": [
      "0.5414393868493763\n"
     ]
    }
   ],
   "source": [
    "from scipy.stats import beta\n",
    "\n",
    "heads = 15\n",
    "tails = 4\n",
    "\n",
    "prob = round(heads / (heads + tails),2)\n",
    "\n",
    "p = 1.0 - beta.cdf(prob, heads, tails)\n",
    "\n",
    "print(p) # 0.98046875\n",
    "\n"
   ]
  }
 ],
 "metadata": {
  "kernelspec": {
   "display_name": "Python 3",
   "language": "python",
   "name": "python3"
  },
  "language_info": {
   "codemirror_mode": {
    "name": "ipython",
    "version": 3
   },
   "file_extension": ".py",
   "mimetype": "text/x-python",
   "name": "python",
   "nbconvert_exporter": "python",
   "pygments_lexer": "ipython3",
   "version": "3.11.5"
  }
 },
 "nbformat": 4,
 "nbformat_minor": 2
}
