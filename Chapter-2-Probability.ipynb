{
 "cells": [
  {
   "cell_type": "markdown",
   "metadata": {},
   "source": [
    "# Probability"
   ]
  },
  {
   "cell_type": "markdown",
   "metadata": {},
   "source": [
    "## Understanding Probability"
   ]
  },
  {
   "cell_type": "code",
   "execution_count": 3,
   "metadata": {},
   "outputs": [
    {
     "data": {
      "text/plain": [
       "0.027777777777777776"
      ]
     },
     "execution_count": 3,
     "metadata": {},
     "output_type": "execute_result"
    }
   ],
   "source": [
    "(1/2)**7+"
   ]
  },
  {
   "cell_type": "code",
   "execution_count": 5,
   "metadata": {},
   "outputs": [
    {
     "data": {
      "text/plain": [
       "0.7000000000000001"
      ]
     },
     "execution_count": 5,
     "metadata": {},
     "output_type": "execute_result"
    }
   ],
   "source": [
    "def odds2prob(odds):\n",
    "    return odds/(1 + odds)\n",
    "\n",
    "odds2prob(7/3) # Answer = .7"
   ]
  },
  {
   "cell_type": "code",
   "execution_count": 14,
   "metadata": {},
   "outputs": [
    {
     "name": "stdout",
     "output_type": "stream",
     "text": [
      "2.33333333333333\n"
     ]
    }
   ],
   "source": [
    "from sympy import *\n",
    "def prob2odds(prob):    \n",
    "    \n",
    "    # Declare 'x' to SymPy\n",
    "    x = symbols('x', real = True)\n",
    "    # Now just use Python syntax to declare function\n",
    "    f = x/(1 - x)\n",
    "    fx_i = f.subs(x, prob)\n",
    "    return print(fx_i) \n",
    "\n",
    "prob2odds(.7) # Answer = 2.33333"
   ]
  },
  {
   "cell_type": "markdown",
   "metadata": {},
   "source": [
    "## Probability Math\n",
    "### Joint Probability\n",
    "$P(A\\;AND\\;B) = P(A) * P(B)$\n",
    "\n",
    "What is the probability of getting one heads on a coin and getting a six on a die?"
   ]
  },
  {
   "cell_type": "code",
   "execution_count": 15,
   "metadata": {},
   "outputs": [
    {
     "data": {
      "text/plain": [
       "0.08333333333333333"
      ]
     },
     "execution_count": 15,
     "metadata": {},
     "output_type": "execute_result"
    }
   ],
   "source": [
    "Heads = (1/2) # Getting Heads on a fair coin.\n",
    "Die = (1/6) # Getting a six on a die.as_integer_ratio\n",
    "\n",
    "Heads * Die"
   ]
  },
  {
   "cell_type": "markdown",
   "metadata": {},
   "source": [
    "### Union Probabilities\n",
    "Mutually exclusive events\n",
    "\n",
    "$P(A\\;OR\\;B) = P(A) + P(B)$\n",
    "\n",
    "Nonmutually exclusive events\n",
    "\n",
    "$P(A\\;OR\\;B) = P(A) + P(B) - P(A) * P(B)$\n"
   ]
  },
  {
   "cell_type": "markdown",
   "metadata": {},
   "source": [
    "What is the probability of getting  getting a six on a die twice? Mutually exclusive events."
   ]
  },
  {
   "cell_type": "code",
   "execution_count": 39,
   "metadata": {},
   "outputs": [
    {
     "data": {
      "text/plain": [
       "0.3333333333333333"
      ]
     },
     "execution_count": 39,
     "metadata": {},
     "output_type": "execute_result"
    }
   ],
   "source": [
    "# mutually exclusive events, two roles with at least one six\n",
    "Die = (1/6) # Getting a six on a die.as_integer_ratio\n",
    "\n",
    "Die + Die # 1/3 or .3333333333333333"
   ]
  },
  {
   "cell_type": "code",
   "execution_count": 40,
   "metadata": {},
   "outputs": [
    {
     "name": "stdout",
     "output_type": "stream",
     "text": [
      "0.3055555555555555\n"
     ]
    }
   ],
   "source": [
    "# mutually exclusive events, two roles with only one six\n",
    "Die = (1/6) # Getting a six on a die.as_integer_ratio\n",
    "\n",
    "list1 = [Die, Die] \n",
    " \n",
    "# using numpy.prod() to get the multiplications \n",
    "result1 = np.sum(list1) - np.prod(list1)\n",
    "\n",
    "print(result1)"
   ]
  },
  {
   "cell_type": "markdown",
   "metadata": {},
   "source": [
    "What is the probability of getting one heads on a coin or getting a six on a die? Nonmutually exclusive events."
   ]
  },
  {
   "cell_type": "code",
   "execution_count": 41,
   "metadata": {},
   "outputs": [
    {
     "data": {
      "text/plain": [
       "0.5833333333333333"
      ]
     },
     "execution_count": 41,
     "metadata": {},
     "output_type": "execute_result"
    }
   ],
   "source": [
    "\n",
    "Heads = (1/2) # Getting Heads on a fair coin.\n",
    "Die = (1/6) # Getting a six on a die.as_integer_ratio\n",
    "\n",
    "Heads + Die - (Heads * Die)"
   ]
  },
  {
   "cell_type": "code",
   "execution_count": 42,
   "metadata": {},
   "outputs": [
    {
     "name": "stdout",
     "output_type": "stream",
     "text": [
      "0.5833333333333333\n"
     ]
    }
   ],
   "source": [
    "# list using numpy.prod()\n",
    "import numpy as np\n",
    "Heads = (1/2) # Getting Heads on a fair coin.\n",
    "Die = (1/6) # Getting a six on a die.as_integer_ratio\n",
    "\n",
    "list1 = [Heads, Die] \n",
    " \n",
    "# using numpy.prod() to get the multiplications \n",
    "result1 = np.sum(list1) - np.prod(list1)\n",
    "\n",
    "print(result1)"
   ]
  },
  {
   "cell_type": "markdown",
   "metadata": {},
   "source": [
    "### Conditional Probability and \n",
    "$P(A\\;GIVEN\\;B)$ or $P(A|B)$\n",
    "\n",
    "### Bayes’ Theorem\n",
    "$P(A|B) = \\frac{P(B|A)*P(A)}{P(B)}$\n",
    "\n",
    "85% percent of cancer patients drank coffee\n",
    "\n",
    "65% of population drinks coffee\n",
    "\n",
    "0.5% of population diagnosed with cancer.\n",
    "\n",
    "We want to know how many of the people who drink coffee eventually get cancer."
   ]
  },
  {
   "cell_type": "code",
   "execution_count": 48,
   "metadata": {},
   "outputs": [
    {
     "name": "stdout",
     "output_type": "stream",
     "text": [
      "0.006538461538461539\n"
     ]
    }
   ],
   "source": [
    "# Example 2-1. Using Bayes’ Theorem in Python \n",
    "p_coffee_drinker = .65\n",
    "p_cancer = .005\n",
    "p_coffee_drinker_given_cancer = .85\n",
    "\n",
    "p_cancer_given_coffee_drinker = p_coffee_drinker_given_cancer * p_cancer / p_coffee_drinker\n",
    "\n",
    "# prints 0.006538461538461539\n",
    "print(p_cancer_given_coffee_drinker)"
   ]
  },
  {
   "cell_type": "code",
   "execution_count": 51,
   "metadata": {},
   "outputs": [
    {
     "data": {
      "text/plain": [
       "0.00425"
      ]
     },
     "execution_count": 51,
     "metadata": {},
     "output_type": "execute_result"
    }
   ],
   "source": [
    "# probability of someone having cancer and being a coffee drinker\n",
    "\n",
    "p_coffee_drinker_given_cancer * p_cancer"
   ]
  },
  {
   "cell_type": "code",
   "execution_count": 50,
   "metadata": {},
   "outputs": [
    {
     "data": {
      "text/plain": [
       "0.00425"
      ]
     },
     "execution_count": 50,
     "metadata": {},
     "output_type": "execute_result"
    }
   ],
   "source": [
    "# probability of someone being a coffee drinker and having cancer\n",
    "\n",
    "p_cancer_given_coffee_drinker * p_coffee_drinker"
   ]
  },
  {
   "cell_type": "code",
   "execution_count": null,
   "metadata": {},
   "outputs": [],
   "source": []
  }
 ],
 "metadata": {
  "kernelspec": {
   "display_name": "Python 3",
   "language": "python",
   "name": "python3"
  },
  "language_info": {
   "codemirror_mode": {
    "name": "ipython",
    "version": 3
   },
   "file_extension": ".py",
   "mimetype": "text/x-python",
   "name": "python",
   "nbconvert_exporter": "python",
   "pygments_lexer": "ipython3",
   "version": "3.11.5"
  }
 },
 "nbformat": 4,
 "nbformat_minor": 2
}
